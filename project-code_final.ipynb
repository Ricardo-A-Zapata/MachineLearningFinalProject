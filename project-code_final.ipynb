{
 "cells": [
  {
   "cell_type": "markdown",
   "metadata": {},
   "source": [
    "<h1> Spotify Skip Prediction Dataset </h1>\n",
    "This dataset comes in two sets. The first set is details about 'sessions': chunks of songs a user listens to in one go, and what songs were listened to. The second set details the song's features. <br>\n",
    "Our analysis will include just the mini set availible on AI Crowd. The input we are using is an augmented table that combines the user session data and the song features data. \n",
    "There are 167880 entires and 50 total features. Only 47 features will be used. \n",
    "\n",
    "<h3>References</h3>\n",
    "We'd like to recognize that due to enormity of this dataset and the complexity of how it was stored (in multiple seperate and unorganized .csv files), we did use online references to decide on our stack and how we would approach the data. <br>\n",
    "We used the following a examples: <br> <br>\n",
    "<li> <a>https://github.com/a-poor/spotify-skip-prediction/blob/master/README.md</a>\n",
    "<br><i>Used for template tech stack and reorganize dataset. </i>"
   ]
  },
  {
   "cell_type": "markdown",
   "metadata": {},
   "source": [
    "<h2>Import Libraries and Datasets</h2>"
   ]
  },
  {
   "cell_type": "code",
   "execution_count": 1,
   "metadata": {},
   "outputs": [
    {
     "name": "stderr",
     "output_type": "stream",
     "text": [
      "C:\\Users\\booke\\AppData\\Local\\Temp\\ipykernel_125132\\859235478.py:1: DeprecationWarning: \n",
      "Pyarrow will become a required dependency of pandas in the next major release of pandas (pandas 3.0),\n",
      "(to allow more performant data types, such as the Arrow string type, and better interoperability with other libraries)\n",
      "but was not found to be installed on your system.\n",
      "If this would cause problems for you,\n",
      "please provide us feedback at https://github.com/pandas-dev/pandas/issues/54466\n",
      "        \n",
      "  import pandas as pd\n"
     ]
    }
   ],
   "source": [
    "import pandas as pd\n",
    "import numpy as np\n",
    "from sklearn.model_selection import train_test_split\n",
    "import matplotlib.pyplot as plt\n",
    "\n",
    "# load both csv files into dataframes\n",
    "log_df = pd.read_csv('log_mini.csv') # user log\n",
    "tf_df  = pd.read_csv('tf_mini.csv')  # track features\n",
    " \n",
    "# rename and merge the two data frames so that the \n",
    "log_df = log_df.rename(columns={'track_id_clean': 'track_id'})\n",
    "\n",
    "# perform a merge so that song information is attached to the user information\n",
    "og_data_df = pd.merge(log_df, tf_df, on='track_id')\n",
    "\n",
    "# Save the merged DataFrame to a new CSV file\n",
    "og_data_df.to_csv('merged_file.csv', index=False)\n",
    "data_df = og_data_df"
   ]
  },
  {
   "cell_type": "code",
   "execution_count": 2,
   "metadata": {},
   "outputs": [
    {
     "name": "stdout",
     "output_type": "stream",
     "text": [
      "                               session_id  session_position  session_length  \\\n",
      "0  0_00006f66-33e5-4de7-a324-2d18e439fc1e                 1              20   \n",
      "\n",
      "                                 track_id  skip_1  skip_2  skip_3  \\\n",
      "0  t_0479f24c-27d2-46d6-a00c-7ec928f2b539   False   False   False   \n",
      "\n",
      "   not_skipped  context_switch  no_pause_before_play  ...  time_signature  \\\n",
      "0         True               0                     0  ...               4   \n",
      "\n",
      "    valence  acoustic_vector_0  acoustic_vector_1  acoustic_vector_2  \\\n",
      "0  0.152255          -0.815775           0.386409            0.23016   \n",
      "\n",
      "   acoustic_vector_3 acoustic_vector_4  acoustic_vector_5 acoustic_vector_6  \\\n",
      "0           0.028028         -0.333373           0.015452          -0.35359   \n",
      "\n",
      "  acoustic_vector_7  \n",
      "0          0.205826  \n",
      "\n",
      "[1 rows x 50 columns]\n",
      "(167880, 50)\n"
     ]
    }
   ],
   "source": [
    "print(data_df.head(1))\n",
    "print(data_df.shape)\n"
   ]
  },
  {
   "cell_type": "markdown",
   "metadata": {},
   "source": [
    "# Reorganizing the Data\n",
    "We decided to select the the variable skip_3 as our 'y' variable. The 'skip_3' feautre represents when a "
   ]
  },
  {
   "cell_type": "code",
   "execution_count": 2,
   "metadata": {},
   "outputs": [
    {
     "name": "stdout",
     "output_type": "stream",
     "text": [
      "<class 'pandas.core.frame.DataFrame'>\n",
      "RangeIndex: 167880 entries, 0 to 167879\n",
      "Data columns (total 47 columns):\n",
      " #   Column                           Non-Null Count   Dtype  \n",
      "---  ------                           --------------   -----  \n",
      " 0   session_id                       167880 non-null  object \n",
      " 1   session_position                 167880 non-null  int64  \n",
      " 2   session_length                   167880 non-null  int64  \n",
      " 3   track_id                         167880 non-null  object \n",
      " 4   context_switch                   167880 non-null  int64  \n",
      " 5   no_pause_before_play             167880 non-null  int64  \n",
      " 6   short_pause_before_play          167880 non-null  int64  \n",
      " 7   long_pause_before_play           167880 non-null  int64  \n",
      " 8   hist_user_behavior_n_seekfwd     167880 non-null  int64  \n",
      " 9   hist_user_behavior_n_seekback    167880 non-null  int64  \n",
      " 10  hist_user_behavior_is_shuffle    167880 non-null  bool   \n",
      " 11  hour_of_day                      167880 non-null  int64  \n",
      " 12  date                             167880 non-null  object \n",
      " 13  premium                          167880 non-null  bool   \n",
      " 14  context_type                     167880 non-null  object \n",
      " 15  hist_user_behavior_reason_start  167880 non-null  object \n",
      " 16  hist_user_behavior_reason_end    167880 non-null  object \n",
      " 17  duration                         167880 non-null  float64\n",
      " 18  release_year                     167880 non-null  int64  \n",
      " 19  us_popularity_estimate           167880 non-null  float64\n",
      " 20  acousticness                     167880 non-null  float64\n",
      " 21  beat_strength                    167880 non-null  float64\n",
      " 22  bounciness                       167880 non-null  float64\n",
      " 23  danceability                     167880 non-null  float64\n",
      " 24  dyn_range_mean                   167880 non-null  float64\n",
      " 25  energy                           167880 non-null  float64\n",
      " 26  flatness                         167880 non-null  float64\n",
      " 27  instrumentalness                 167880 non-null  float64\n",
      " 28  key                              167880 non-null  int64  \n",
      " 29  liveness                         167880 non-null  float64\n",
      " 30  loudness                         167880 non-null  float64\n",
      " 31  mechanism                        167880 non-null  float64\n",
      " 32  mode                             167880 non-null  object \n",
      " 33  organism                         167880 non-null  float64\n",
      " 34  speechiness                      167880 non-null  float64\n",
      " 35  tempo                            167880 non-null  float64\n",
      " 36  time_signature                   167880 non-null  int64  \n",
      " 37  valence                          167880 non-null  float64\n",
      " 38  acoustic_vector_0                167880 non-null  float64\n",
      " 39  acoustic_vector_1                167880 non-null  float64\n",
      " 40  acoustic_vector_2                167880 non-null  float64\n",
      " 41  acoustic_vector_3                167880 non-null  float64\n",
      " 42  acoustic_vector_4                167880 non-null  float64\n",
      " 43  acoustic_vector_5                167880 non-null  float64\n",
      " 44  acoustic_vector_6                167880 non-null  float64\n",
      " 45  acoustic_vector_7                167880 non-null  float64\n",
      " 46  skipped                          167880 non-null  int32  \n",
      "dtypes: bool(2), float64(25), int32(1), int64(12), object(7)\n",
      "memory usage: 57.3+ MB\n",
      "None\n"
     ]
    }
   ],
   "source": [
    "# Making a 'skipped' feature for whether a song has been skipped or not, regardless of how fast\n",
    "data_df['skipped'] = (data_df.skip_3 | data_df.skip_2 | data_df.skip_1).astype('int32')\n",
    "\n",
    "# Make 'skipped' column our 'y' value for prediction\n",
    "y_df = data_df['skipped']\n",
    "\n",
    "data_df = data_df.drop(columns=[\"skip_1\", \"skip_2\", \"skip_3\", \"not_skipped\"], axis=1)\n",
    "#Optional print just to check features\n",
    "print(data_df.info())"
   ]
  },
  {
   "cell_type": "markdown",
   "metadata": {},
   "source": [
    "## Dealing with Non-Float Values\n",
    "The IDs of the songs and the users are strings. We've chosen to completely drop these values. While it is reasonable to assume they impact the predicted value, we opt to focus on more generally modeling whether a song will be skipped or not as opposed to whether a song will be skipped or not depending on previous skips and sessions since there are 10,000 sessions in the mini dataset, a value we are not sure how to deal with considering the reasources we have."
   ]
  },
  {
   "cell_type": "markdown",
   "metadata": {},
   "source": [
    "###"
   ]
  },
  {
   "cell_type": "code",
   "execution_count": 3,
   "metadata": {},
   "outputs": [],
   "source": [
    "# drop id values\n",
    "data_df = data_df.drop(columns=[\"session_id\", \"track_id\"], axis=1)"
   ]
  },
  {
   "cell_type": "code",
   "execution_count": 4,
   "metadata": {},
   "outputs": [
    {
     "name": "stdout",
     "output_type": "stream",
     "text": [
      "   session_position  session_length  context_switch  no_pause_before_play  \\\n",
      "0                 1              20               0                     0   \n",
      "1                 2              20               0                     1   \n",
      "2                 3              20               0                     1   \n",
      "\n",
      "   short_pause_before_play  long_pause_before_play  \\\n",
      "0                        0                       0   \n",
      "1                        0                       0   \n",
      "2                        0                       0   \n",
      "\n",
      "   hist_user_behavior_n_seekfwd  hist_user_behavior_n_seekback  \\\n",
      "0                             0                              0   \n",
      "1                             0                              0   \n",
      "2                             0                              0   \n",
      "\n",
      "   hist_user_behavior_is_shuffle  hour_of_day  ...  acoustic_vector_2  \\\n",
      "0                           True           16  ...           0.230160   \n",
      "1                           True           16  ...           0.310315   \n",
      "2                           True           16  ...           0.252660   \n",
      "\n",
      "  acoustic_vector_3 acoustic_vector_4 acoustic_vector_5  acoustic_vector_6  \\\n",
      "0          0.028028         -0.333373          0.015452          -0.353590   \n",
      "1         -0.042222         -0.383164          0.066357          -0.365308   \n",
      "2         -0.049007         -0.299745          0.063341          -0.486689   \n",
      "\n",
      "   acoustic_vector_7  skipped  session_year  session_month  \\\n",
      "0           0.205826        0          2018              7   \n",
      "1           0.157920        0          2018              7   \n",
      "2           0.181604        0          2018              7   \n",
      "\n",
      "   session_day_of_week  \n",
      "0                    6  \n",
      "1                    6  \n",
      "2                    6  \n",
      "\n",
      "[3 rows x 47 columns]\n"
     ]
    }
   ],
   "source": [
    "# fix the session_date column into seperate parts. dropping day. \n",
    "data_df['session_year'] = pd.to_datetime(data_df['date']).dt.year\n",
    "data_df['session_month'] = pd.to_datetime(data_df['date']).dt.month\n",
    "# data_df['day'] = pd.to_datetime(data_df['date']).dt.day\n",
    "data_df['session_day_of_week'] = pd.to_datetime(data_df['date']).dt.dayofweek\n",
    "#print(data_df.head(3))\n",
    "data_df = data_df.drop('date', axis=1)\n",
    "# print(data_df.head(3))\n",
    "\n"
   ]
  },
  {
   "cell_type": "code",
   "execution_count": 5,
   "metadata": {},
   "outputs": [],
   "source": [
    "data_df['premium'] = data_df['premium'].astype(int)\n",
    "# print(data_df['premium'].head(5))\n",
    "\n",
    "# hist_user_behavior_is_shuffle\n",
    "data_df['hist_user_behavior_is_shuffle'] = data_df['hist_user_behavior_is_shuffle'].astype(int)\n",
    "# print(data_df['hist_user_behavior_is_shuffle'].head(5))\n",
    "\n",
    "data_df['mode'] = data_df['mode'].map({'major':1, 'minor':0})\n",
    "# print(data_df['mode'].head(5))\n"
   ]
  },
  {
   "cell_type": "markdown",
   "metadata": {},
   "source": [
    "### Categorical Variables\n",
    "The following variables were categorical in nature:\n",
    "* time_signature\n",
    "* key_signature\n",
    "* context_type\n",
    "* hist_user_behavior_reason_start\t\n",
    "* hist_user_behavior_reason_end\n",
    "<br><br>Lets analyze how many types of values are in each column to determine whether one-hot encoding or ordinal encoding is more advantageous. "
   ]
  },
  {
   "cell_type": "code",
   "execution_count": 6,
   "metadata": {},
   "outputs": [
    {
     "name": "stdout",
     "output_type": "stream",
     "text": [
      "time_signature :  [4 5 3 1 0]\n",
      "key :  [ 1  7 10  8  6  5  4  2  0  3  9 11]\n",
      "context_type :  ['editorial_playlist' 'user_collection' 'radio' 'personalized_playlist'\n",
      " 'catalog' 'charts']\n",
      "hist_user_behavior_reason_start :  ['trackdone' 'fwdbtn' 'backbtn' 'clickrow' 'appload' 'playbtn' 'remote'\n",
      " 'trackerror' 'endplay']\n",
      "hist_user_behavior_reason_end :  ['trackdone' 'fwdbtn' 'backbtn' 'endplay' 'logout' 'remote' 'clickrow']\n"
     ]
    }
   ],
   "source": [
    "list = ['time_signature', 'key', 'context_type', 'hist_user_behavior_reason_start', 'hist_user_behavior_reason_end' ]\n",
    "\n",
    "for col in list:\n",
    "    unique_values = data_df[col].unique()\n",
    "    print(col, \": \", unique_values)"
   ]
  },
  {
   "cell_type": "markdown",
   "metadata": {},
   "source": [
    "### Analyzing Unique Values\n",
    "For *time signature*, due to the ordered nature, we will use *ordinal* encoding.\n",
    "For *context_type*, *key*, *hist_user_behavior_reason_start*, and *hist_user_behavior_reason_end* we will use *one-hot* encoding as their seems to be no inheret order to the values. \n",
    "\n",
    "Let's make the changes now!"
   ]
  },
  {
   "cell_type": "markdown",
   "metadata": {},
   "source": [
    "## One-Hot Encoding\n"
   ]
  },
  {
   "cell_type": "code",
   "execution_count": 7,
   "metadata": {},
   "outputs": [],
   "source": [
    "from sklearn.preprocessing import OneHotEncoder\n",
    "import pandas as pd\n",
    "\n",
    "encoder = OneHotEncoder()\n",
    "\n",
    "categorical_features = ['context_type', 'hist_user_behavior_reason_start', 'hist_user_behavior_reason_end', 'key']\n",
    "encoded_data = encoder.fit_transform(data_df[categorical_features])\n",
    "\n",
    "encoded_df = pd.DataFrame(encoded_data.toarray(), columns=encoder.get_feature_names_out(categorical_features))\n",
    "\n",
    "data_df = pd.concat([data_df.reset_index(drop=True), encoded_df], axis=1)\n",
    "\n",
    "data_df.drop(categorical_features, axis=1, inplace=True)\n",
    "\n",
    "# print(data_df.head(2))\n",
    "# print(data_df.columns)\n"
   ]
  },
  {
   "cell_type": "markdown",
   "metadata": {},
   "source": [
    "### Check for Missing Values"
   ]
  },
  {
   "cell_type": "code",
   "execution_count": 8,
   "metadata": {},
   "outputs": [
    {
     "name": "stdout",
     "output_type": "stream",
     "text": [
      "Series([], dtype: int64)\n"
     ]
    }
   ],
   "source": [
    "# check for missing values\n",
    "missing_values = data_df.isnull().sum()\n",
    "\n",
    "# display columns with missing values and counts\n",
    "print(missing_values[missing_values > 0])\n",
    "\n",
    "data_df = data_df.drop(columns=[\"skipped\"], axis=1)\n",
    "# print(data_df.columns)"
   ]
  },
  {
   "cell_type": "markdown",
   "metadata": {},
   "source": [
    "### Split Data into Test and Training Sets"
   ]
  },
  {
   "cell_type": "code",
   "execution_count": 9,
   "metadata": {},
   "outputs": [],
   "source": [
    "X_train, X_test, y_train, y_test = train_test_split(data_df, y_df, test_size=0.2, random_state=42)"
   ]
  },
  {
   "cell_type": "code",
   "execution_count": 13,
   "metadata": {},
   "outputs": [],
   "source": [
    "# print(data_df.info)"
   ]
  },
  {
   "cell_type": "markdown",
   "metadata": {},
   "source": [
    "# Model #1: Logistic Regression\n",
    "Our first model will be a logistic regression model using sklearn's implementation. \n"
   ]
  },
  {
   "cell_type": "code",
   "execution_count": 12,
   "metadata": {},
   "outputs": [],
   "source": [
    "from sklearn.pipeline import make_pipeline\n",
    "from sklearn.preprocessing import StandardScaler, PolynomialFeatures\n",
    "from sklearn.feature_selection import SelectKBest, f_classif, VarianceThreshold\n",
    "from sklearn.linear_model import LogisticRegression\n",
    "from sklearn.model_selection import GridSearchCV, StratifiedKFold\n",
    "from sklearn.metrics import accuracy_score, roc_auc_score, mean_squared_error, classification_report\n",
    "import matplotlib.pyplot as plt"
   ]
  },
  {
   "cell_type": "code",
   "execution_count": 13,
   "metadata": {},
   "outputs": [
    {
     "name": "stdout",
     "output_type": "stream",
     "text": [
      "Fitting 5 folds for each of 12 candidates, totalling 60 fits\n"
     ]
    }
   ],
   "source": [
    "regularization_strengths = [0.001, 0.01, 0.1, 1, 10]\n",
    "l1_errors = []\n",
    "l2_errors = []\n",
    "l1_accuracies = []\n",
    "l2_accuracies = []\n",
    "\n",
    "for reg_type in ['l1', 'l2']:\n",
    "    errors = []\n",
    "    accuracies = []\n",
    "    for C in regularization_strengths:\n",
    "        model = LogisticRegression(C=C, penalty=reg_type, solver='saga', max_iter=1000, tol = 0.1)\n",
    "        model.fit(X_train, y_train)\n",
    "        y_pred = model.predict(X_test)\n",
    "        y_prob = model.predict_proba(X_test)[:, 1]\n",
    "\n",
    "        errors.append(mean_squared_error(y_test, y_prob))\n",
    "        accuracies.append(accuracy_score(y_test, y_pred))\n",
    "\n",
    "    if reg_type == 'l1':\n",
    "        l1_errors = errors\n",
    "        l1_accuracies = accuracies\n",
    "    else:\n",
    "        l2_errors = errors\n",
    "        l2_accuracies = accuracies\n",
    "\n",
    "fig_l1, ax1_l1 = plt.subplots()\n",
    "ax1_l1.semilogx(regularization_strengths, l1_errors, 'o-', color=\"r\", label='L1 Mean Squared Error')\n",
    "ax1_l1.set_xlabel('Regularization Strength')\n",
    "ax1_l1.set_ylabel('Mean Squared Error', color='r')\n",
    "ax1_l1.tick_params('y', colors='r')\n",
    "ax1_l1.legend(loc='upper right')\n",
    "\n",
    "ax2_l1 = ax1_l1.twinx()\n",
    "ax2_l1.semilogx(regularization_strengths, l1_accuracies, 'o-', color=\"b\", label='L1 Accuracy')\n",
    "ax2_l1.set_ylabel('Accuracy', color='b')\n",
    "ax2_l1.tick_params('y', colors='b')\n",
    "ax2_l1.legend(loc='lower right')\n",
    "\n",
    "fig_l1.tight_layout()\n",
    "plt.show()\n",
    "\n",
    "fig_l2, ax1_l2 = plt.subplots()\n",
    "ax1_l2.semilogx(regularization_strengths, l2_errors, 's-', color=\"g\", label='L2 Mean Squared Error')\n",
    "ax1_l2.set_xlabel('Regularization Strength')\n",
    "ax1_l2.set_ylabel('Mean Squared Error', color='g')\n",
    "ax1_l2.tick_params('y', colors='g')\n",
    "ax1_l2.legend(loc='upper right')\n",
    "\n",
    "ax2_l2 = ax1_l2.twinx()\n",
    "ax2_l2.semilogx(regularization_strengths, l2_accuracies, 's-', color=\"orange\", label='L2 Accuracy')\n",
    "ax2_l2.set_ylabel('Accuracy', color='orange')\n",
    "ax2_l2.tick_params('y', colors='orange')\n",
    "ax2_l2.legend(loc='lower right')\n",
    "\n",
    "fig_l2.tight_layout()\n",
    "plt.show()\n",
    "\n",
    "\n",
    "pipeline = make_pipeline(\n",
    "    StandardScaler(),\n",
    "    SelectKBest(f_classif, k=10),\n",
    "    LogisticRegression(solver='saga', tol=0.01, max_iter=1000)\n",
    ")\n",
    "\n",
    "param_grid = {\n",
    "    'selectkbest__k': [10],\n",
    "    'logisticregression__C': [0.1, 1, 10],\n",
    "    'logisticregression__penalty': ['l2']\n",
    "}\n",
    "\n",
    "\n",
    "cv = StratifiedKFold(n_splits=3, shuffle=True, random_state=42)\n",
    "\n",
    "grid_search_1 = GridSearchCV(pipeline, param_grid, cv=cv, n_jobs=-1, verbose=2)\n",
    "\n",
    "\n",
    "grid_search_1.fit(X_train, y_train)\n",
    "train_accuracy_1 = accuracy_score(y_train, grid_search_1.predict(X_train))\n",
    "validation_accuracy_1 = grid_search_1.best_score_\n",
    "print(\"Degree 1 - Training Accuracy: \", train_accuracy_1)\n",
    "print(\"Degree 1 - Validation Accuracy: \", validation_accuracy_1)\n",
    "\n",
    "\n",
    "best_model = grid_search_1.best_estimator_\n",
    "coefficients = best_model.named_steps['logisticregression'].coef_[0]\n",
    "\n",
    "predictions = best_model.predict(X_test)\n",
    "\n",
    "accuracy = accuracy_score(y_test, predictions)\n",
    "print(\"Accuracy:\", accuracy)\n",
    "print(\"Best Parameters:\", grid_search_1.best_params_)\n",
    "print(\"Classification Report:\")\n",
    "print(classification_report(y_test, predictions))\n",
    "probabilities = best_model.predict_proba(X_test)[:, 1]\n",
    "roc_auc = roc_auc_score(y_test, probabilities)\n",
    "print(\"ROC-AUC Score:\", roc_auc)\n",
    "\n",
    "plt.plot(coefficients, 'o-', label='Logistic Regression Coefficients')\n",
    "plt.xlabel('Coefficient Index')\n",
    "plt.ylabel('Coefficient Magnitude')\n",
    "plt.legend()\n",
    "plt.show()\n",
    "\n",
    "\"\"\"\n",
    "#_______________________________________________________________________________________________________________________________\n",
    "#The following is the code used in implementing polynomial feature transformations on the dataset.\n",
    "#\n",
    "#Due to our data reorginzation and preprocessing, we have 76 features in our feature space. For polynomial transformation,\n",
    "#that would require being able to computationally sustain the square of the number of our original features, so 5625 features.\n",
    "#Working with 5625 features is far too computationally taxing, which has led us to put our efforts toward another type of \n",
    "#feature transformation.\n",
    "#_______________________________________________________________________________________________________________________________\n",
    "\n",
    "\n",
    "pipeline_poly = make_pipeline(\n",
    "    VarianceThreshold(),  \n",
    "    StandardScaler(),\n",
    "    PolynomialFeatures(degree=2, include_bias=False),\n",
    "    SelectKBest(k=10),\n",
    "    LogisticRegression(solver='saga', tol=0.1, max_iter=500)\n",
    ")\n",
    "\n",
    "param_grid_poly = {\n",
    "    'polynomialfeatures__degree': [1, 2], \n",
    "    'selectkbest__k': [10],  \n",
    "    'logisticregression__C': [0.1, 1, 10],\n",
    "    'logisticregression__penalty': ['l1', 'l2']\n",
    "}\n",
    "\n",
    "grid_search_2 = GridSearchCV(pipeline_poly, param_grid_poly, cv=cv, n_jobs=-1, verbose=2)\n",
    "\n",
    "grid_search_2.fit(X_train, y_train)\n",
    "train_accuracy_2 = accuracy_score(y_train, grid_search_2.predict(X_train))\n",
    "validation_accuracy_2 = grid_search_2.best_score_\n",
    "print(\"Degree 2 - Training Accuracy: \", train_accuracy_2)\n",
    "print(\"Degree 2 - Validation Accuracy: \", validation_accuracy_2)\n",
    "\"\"\"\n",
    "\n",
    "\n",
    "\n",
    "\n",
    "X_train_transformed = np.sqrt(X_train)\n",
    "X_test_transformed = np.sqrt(X_test)\n",
    "\n",
    "logreg_transformed = LogisticRegression(C=best_params_['C'], solver=best_params_['solver'])\n",
    "\n",
    "logreg_transformed.fit(X_train_transformed, y_train)\n",
    "\n",
    "y_pred_transformed = logreg_transformed.predict(X_test_transformed)\n",
    "\n",
    "accuracy_transformed = accuracy_score(y_test, y_pred_transformed)\n",
    "precision_transformed = precision_score(y_test, y_pred_transformed)\n",
    "recall_transformed = recall_score(y_test, y_pred_transformed)\n",
    "f1_transformed = f1_score(y_test, y_pred_transformed)\n",
    "\n",
    "print(\"Accuracy (Transformed):\", accuracy_transformed)\n",
    "print(\"Precision (Transformed):\", precision_transformed)\n",
    "print(\"Recall (Transformed):\", recall_transformed)\n",
    "print(\"F1 Score (Transformed):\", f1_transformed)\n",
    "\n",
    "coefficients_transformed = logreg_transformed.coef_.ravel()\n",
    "plt.figure()\n",
    "plt.bar(range(len(coefficients_transformed)), coefficients_transformed)\n",
    "plt.xlabel('Feature index')\n",
    "plt.ylabel('Coefficient value')\n",
    "plt.title('Logistic Regression Coefficients (Transformed Features)')\n",
    "plt.show()\n"
   ]
  },
  {
   "cell_type": "markdown",
   "metadata": {},
   "source": [
    "# Model #2: SVM"
   ]
  },
  {
   "cell_type": "code",
   "execution_count": 14,
   "metadata": {},
   "outputs": [
    {
     "name": "stdout",
     "output_type": "stream",
     "text": [
      "[LibSVM]"
     ]
    }
   ],
   "source": [
    "import numpy as np\n",
    "import matplotlib.pyplot as plt\n",
    "from sklearn.metrics import precision_score, recall_score, confusion_matrix\n",
    "from sklearn.model_selection import learning_curve\n",
    "from sklearn.svm import SVC\n",
    "from sklearn.metrics import accuracy_score\n",
    "\n",
    "# C = 1.0\n",
    "# gamma = 0.1\n",
    "svm_classifier = SVC(kernel='linear', verbose=True)\n",
    "\n",
    "svm_classifier.fit(X_train, y_train)\n",
    "\n",
    "svm_predictions = svm_classifier.predict(X_test)\n"
   ]
  },
  {
   "cell_type": "code",
   "execution_count": 11,
   "metadata": {},
   "outputs": [
    {
     "name": "stdout",
     "output_type": "stream",
     "text": [
      "SVM Accuracy: 0.6484691446271146\n",
      "Precision: 0.6484691446271146\n",
      "Recall: 1.0\n",
      "Confusion Matrix: [[    0 11803]\n",
      " [    0 21773]]\n"
     ]
    }
   ],
   "source": [
    "svm_accuracy = accuracy_score(y_test, svm_predictions)\n",
    "print(\"SVM Accuracy:\", svm_accuracy)\n",
    "\n",
    "precision = precision_score(y_test, svm_predictions)\n",
    "recall = recall_score(y_test, svm_predictions)\n",
    "\n",
    "conf_matrix = confusion_matrix(y_test, svm_predictions)\n",
    "\n",
    "print(\"Precision:\", precision)\n",
    "print(\"Recall:\", recall)\n",
    "print(\"Confusion Matrix:\", conf_matrix)"
   ]
  },
  {
   "cell_type": "code",
   "execution_count": null,
   "metadata": {},
   "outputs": [],
   "source": [
    "# plot learning curve\n",
    "train_sizes, train_scores, val_scores = learning_curve(\n",
    "    svm_classifier, X_train, y_train, cv=5, scoring='accuracy', n_jobs=-1)\n",
    "\n",
    "print(\"Training Accuracy: \", train_scores[-1])\n",
    "\n",
    "train_scores_mean = np.mean(train_scores, axis=1)\n",
    "val_scores_mean = np.mean(val_scores, axis=1)\n",
    "\n",
    "plt.figure()\n",
    "plt.plot(train_sizes, train_scores_mean, 'o-', label='Training accuracy')\n",
    "plt.plot(train_sizes, val_scores_mean, 'o-', label='Validation accuracy')\n",
    "plt.xlabel('Training examples')\n",
    "plt.ylabel('Accuracy')\n",
    "plt.title('Learning Curve')\n",
    "plt.legend(loc='best')\n",
    "plt.grid(True)\n",
    "plt.show()"
   ]
  },
  {
   "cell_type": "markdown",
   "metadata": {},
   "source": [
    "# Model #3: Neural Network"
   ]
  },
  {
   "cell_type": "code",
   "execution_count": null,
   "metadata": {},
   "outputs": [],
   "source": [
    "\n",
    "import tensorflow as tf\n",
    "from tensorflow.keras.models import Sequential\n",
    "from tensorflow.keras.layers import Dense, Dropout\n",
    "from sklearn.metrics import precision_score, recall_score\n",
    "from tensorflow.keras import layers, regularizers"
   ]
  },
  {
   "cell_type": "code",
   "execution_count": null,
   "metadata": {},
   "outputs": [],
   "source": [
    "model = Sequential([\n",
    "    Dense(64, activation='relu', kernel_regularizer=regularizers.l2(0.001)),\n",
    "    Dense(32, activation='relu', kernel_regularizer=regularizers.l2(0.001)),\n",
    "    Dense(16, activation='relu', kernel_regularizer=regularizers.l2(0.001)),\n",
    "    Dense(1, activation='sigmoid')\n",
    "])\n"
   ]
  },
  {
   "cell_type": "code",
   "execution_count": null,
   "metadata": {},
   "outputs": [],
   "source": [
    "model.compile(optimizer='adam', loss='binary_crossentropy', metrics=['accuracy'])\n"
   ]
  },
  {
   "cell_type": "code",
   "execution_count": null,
   "metadata": {},
   "outputs": [
    {
     "name": "stdout",
     "output_type": "stream",
     "text": [
      "Epoch 1/10\n",
      "\u001b[1m8394/8394\u001b[0m \u001b[32m━━━━━━━━━━━━━━━━━━━━\u001b[0m\u001b[37m\u001b[0m \u001b[1m7s\u001b[0m 718us/step - accuracy: 0.7888 - loss: 1.7021 - val_accuracy: 0.9788 - val_loss: 0.2257\n",
      "Epoch 2/10\n",
      "\u001b[1m8394/8394\u001b[0m \u001b[32m━━━━━━━━━━━━━━━━━━━━\u001b[0m\u001b[37m\u001b[0m \u001b[1m6s\u001b[0m 702us/step - accuracy: 0.9561 - loss: 0.2629 - val_accuracy: 0.9122 - val_loss: 0.3239\n",
      "Epoch 3/10\n",
      "\u001b[1m8394/8394\u001b[0m \u001b[32m━━━━━━━━━━━━━━━━━━━━\u001b[0m\u001b[37m\u001b[0m \u001b[1m6s\u001b[0m 687us/step - accuracy: 0.9672 - loss: 0.2003 - val_accuracy: 0.9807 - val_loss: 0.1526\n",
      "Epoch 4/10\n",
      "\u001b[1m8394/8394\u001b[0m \u001b[32m━━━━━━━━━━━━━━━━━━━━\u001b[0m\u001b[37m\u001b[0m \u001b[1m6s\u001b[0m 678us/step - accuracy: 0.9689 - loss: 0.1821 - val_accuracy: 0.9801 - val_loss: 0.1630\n",
      "Epoch 5/10\n",
      "\u001b[1m8394/8394\u001b[0m \u001b[32m━━━━━━━━━━━━━━━━━━━━\u001b[0m\u001b[37m\u001b[0m \u001b[1m6s\u001b[0m 707us/step - accuracy: 0.9733 - loss: 0.1692 - val_accuracy: 0.9808 - val_loss: 0.1480\n",
      "Epoch 6/10\n",
      "\u001b[1m8394/8394\u001b[0m \u001b[32m━━━━━━━━━━━━━━━━━━━━\u001b[0m\u001b[37m\u001b[0m \u001b[1m6s\u001b[0m 699us/step - accuracy: 0.9720 - loss: 0.1612 - val_accuracy: 0.9795 - val_loss: 0.1393\n",
      "Epoch 7/10\n",
      "\u001b[1m8394/8394\u001b[0m \u001b[32m━━━━━━━━━━━━━━━━━━━━\u001b[0m\u001b[37m\u001b[0m \u001b[1m6s\u001b[0m 703us/step - accuracy: 0.9710 - loss: 0.1770 - val_accuracy: 0.9799 - val_loss: 0.1292\n",
      "Epoch 8/10\n",
      "\u001b[1m8394/8394\u001b[0m \u001b[32m━━━━━━━━━━━━━━━━━━━━\u001b[0m\u001b[37m\u001b[0m \u001b[1m6s\u001b[0m 725us/step - accuracy: 0.9755 - loss: 0.1586 - val_accuracy: 0.9798 - val_loss: 0.1357\n",
      "Epoch 9/10\n",
      "\u001b[1m8394/8394\u001b[0m \u001b[32m━━━━━━━━━━━━━━━━━━━━\u001b[0m\u001b[37m\u001b[0m \u001b[1m6s\u001b[0m 722us/step - accuracy: 0.9749 - loss: 0.1498 - val_accuracy: 0.9808 - val_loss: 0.1292\n",
      "Epoch 10/10\n",
      "\u001b[1m8394/8394\u001b[0m \u001b[32m━━━━━━━━━━━━━━━━━━━━\u001b[0m\u001b[37m\u001b[0m \u001b[1m6s\u001b[0m 701us/step - accuracy: 0.9741 - loss: 0.1500 - val_accuracy: 0.9799 - val_loss: 0.1273\n"
     ]
    }
   ],
   "source": [
    "history = model.fit(X_train, y_train, epochs=10, batch_size=16, validation_data=(X_test, y_test))"
   ]
  },
  {
   "cell_type": "code",
   "execution_count": null,
   "metadata": {},
   "outputs": [
    {
     "data": {
      "image/png": "[encoded data removed]",
      "text/plain": [
       "<Figure size 640x480 with 1 Axes>"
      ]
     },
     "metadata": {},
     "output_type": "display_data"
    },
    {
     "name": "stdout",
     "output_type": "stream",
     "text": [
      "\u001b[1m1050/1050\u001b[0m \u001b[32m━━━━━━━━━━━━━━━━━━━━\u001b[0m\u001b[37m\u001b[0m \u001b[1m1s\u001b[0m 559us/step\n",
      "Precision: 0.978457072883124\n",
      "Recall: 0.990860239746475\n"
     ]
    }
   ],
   "source": [
    "# Plot accuracy for each iteration\n",
    "plt.plot(history.history['accuracy'], label='Training Accuracy')\n",
    "plt.plot(history.history['val_accuracy'], label='Validation Accuracy')\n",
    "plt.title('Model Accuracy')\n",
    "plt.xlabel('Epoch')\n",
    "plt.ylabel('Accuracy')\n",
    "plt.legend()\n",
    "plt.show()\n",
    "\n",
    "# Calculate and print precision and recall\n",
    "y_pred = model.predict(X_test)\n",
    "y_pred_binary = (y_pred > 0.5).astype(int)\n",
    "precision = precision_score(y_test, y_pred_binary)\n",
    "recall = recall_score(y_test, y_pred_binary)\n",
    "print(\"Precision:\", precision)\n",
    "print(\"Recall:\", recall)"
   ]
  },
  {
   "cell_type": "code",
   "execution_count": null,
   "metadata": {},
   "outputs": [
    {
     "name": "stdout",
     "output_type": "stream",
     "text": [
      "Training Accuracy:  0.9734036326408386\n",
      "Test Accuracy:  0.9799261093139648\n"
     ]
    }
   ],
   "source": [
    "print(\"Training Accuracy: \", history.history['accuracy'][-1])\n",
    "print(\"Test Accuracy: \", model.evaluate(X_test, y_test, verbose=0)[1])"
   ]
  },
  {
   "cell_type": "code",
   "execution_count": null,
   "metadata": {},
   "outputs": [],
   "source": []
  },
  {
   "cell_type": "code",
   "execution_count": null,
   "metadata": {},
   "outputs": [],
   "source": []
  }
 ],
 "metadata": {
  "kernelspec": {
   "display_name": "Python 3",
   "language": "python",
   "name": "python3"
  },
  "language_info": {
   "codemirror_mode": {
    "name": "ipython",
    "version": 3
   },
   "file_extension": ".py",
   "mimetype": "text/x-python",
   "name": "python",
   "nbconvert_exporter": "python",
   "pygments_lexer": "ipython3",
   "version": "3.11.9"
  }
 },
 "nbformat": 4,
 "nbformat_minor": 2
}
