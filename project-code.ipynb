{
 "cells": [
  {
   "cell_type": "markdown",
   "metadata": {},
   "source": [
    "<h1> Spotify Skip Prediction Dataset </h1>\n",
    "This dataset comes in two sets. The first set is details about 'sessions': chunks of songs a user listens to in one go, and what songs were listened to. The second set details the song's features. <br>\n",
    "Our analysis will include just the mini set availible on AI Crowd. There are _ entires in the user log data and _ entries in the track features data. \n",
    "\n",
    "\n",
    "<h3>References</h3>\n",
    "We'd like to recognize that due to enormity of this dataset and the complexity of how it was stored (in multiple seperate and unorganized .csv files), we did use online references to decide on our stack and how we would approach the data. <br>\n",
    "We used the following a examples: <br> <br>\n",
    "<li> <a>https://github.com/a-poor/spotify-skip-prediction/blob/master/README.md</a>\n",
    "<br><i>Used for template tech stack and reorganize dataset. </i>\n",
    "<li> <a>https://www.youtube.com/watch?v=KuQUNHCeKCk&ab_channel=BekBrace </a>\n",
    "<br><i>Used this series to conigure PostgreSQL.</i>"
   ]
  },
  {
   "cell_type": "markdown",
   "metadata": {},
   "source": [
    "<h2>Import Libraries and Datasets</h2>"
   ]
  },
  {
   "cell_type": "code",
   "execution_count": 9,
   "metadata": {},
   "outputs": [],
   "source": [
    "import pandas as pd\n",
    "import numpy as np\n",
    "import sklearn as sk\n",
    "\n",
    "# load both csv files into dataframes\n",
    "log_df = pd.read_csv('log_mini.csv') # user log\n",
    "tf_df  = pd.read_csv('tf_mini.csv')  # track features\n",
    " \n",
    "# rename and merge the two data frames so that the \n",
    "log_df = log_df.rename(columns={'track_id_clean': 'track_id'})\n",
    "\n",
    "# perform a merge so that song information is attached to the user information\n",
    "data_df = pd.merge(log_df, tf_df, on='track_id')\n",
    "\n",
    "# Save the merged DataFrame to a new CSV file\n",
    "data_df.to_csv('merged_file.csv', index=False)"
   ]
  },
  {
   "cell_type": "code",
   "execution_count": 13,
   "metadata": {},
   "outputs": [
    {
     "name": "stdout",
     "output_type": "stream",
     "text": [
      "                               session_id  session_position  session_length  \\\n",
      "0  0_00006f66-33e5-4de7-a324-2d18e439fc1e                 1              20   \n",
      "1  0_00006f66-33e5-4de7-a324-2d18e439fc1e                 2              20   \n",
      "2  0_00006f66-33e5-4de7-a324-2d18e439fc1e                 3              20   \n",
      "3  0_00006f66-33e5-4de7-a324-2d18e439fc1e                 4              20   \n",
      "4  0_00006f66-33e5-4de7-a324-2d18e439fc1e                 5              20   \n",
      "5  0_00006f66-33e5-4de7-a324-2d18e439fc1e                 6              20   \n",
      "6  0_00006f66-33e5-4de7-a324-2d18e439fc1e                 7              20   \n",
      "7  0_00006f66-33e5-4de7-a324-2d18e439fc1e                 8              20   \n",
      "8  0_00006f66-33e5-4de7-a324-2d18e439fc1e                 9              20   \n",
      "9  0_00006f66-33e5-4de7-a324-2d18e439fc1e                10              20   \n",
      "\n",
      "                                 track_id  skip_1  skip_2  skip_3  \\\n",
      "0  t_0479f24c-27d2-46d6-a00c-7ec928f2b539   False   False   False   \n",
      "1  t_9099cd7b-c238-47b7-9381-f23f2c1d1043   False   False   False   \n",
      "2  t_fc5df5ba-5396-49a7-8b29-35d0d28249e0   False   False   False   \n",
      "3  t_23cff8d6-d874-4b20-83dc-94e450e8aa20   False   False   False   \n",
      "4  t_64f3743c-f624-46bb-a579-0f3f9a07a123   False   False   False   \n",
      "5  t_c815228b-3212-4f9e-9d4f-9cb19b248184   False   False    True   \n",
      "6  t_e23c19f5-4c32-4557-aa44-81372c2e3705    True    True    True   \n",
      "7  t_0be6eced-f56f-48bd-8086-f2e0b760fdee    True    True    True   \n",
      "8  t_f3ecbd3b-9e8e-4557-b8e0-39cfcd7e65dd   False    True    True   \n",
      "9  t_2af4dfa0-7df3-4b7e-b7ab-353ba48237f9    True    True    True   \n",
      "\n",
      "   not_skipped  context_switch  no_pause_before_play  ...  time_signature  \\\n",
      "0         True               0                     0  ...               4   \n",
      "1         True               0                     1  ...               4   \n",
      "2         True               0                     1  ...               4   \n",
      "3         True               0                     1  ...               4   \n",
      "4         True               0                     1  ...               4   \n",
      "5        False               0                     1  ...               5   \n",
      "6        False               0                     1  ...               4   \n",
      "7        False               0                     1  ...               4   \n",
      "8        False               0                     1  ...               4   \n",
      "9        False               0                     1  ...               4   \n",
      "\n",
      "    valence  acoustic_vector_0  acoustic_vector_1  acoustic_vector_2  \\\n",
      "0  0.152255          -0.815775           0.386409           0.230160   \n",
      "1  0.337152          -0.713646           0.363718           0.310315   \n",
      "2  0.373862          -0.742541           0.375599           0.252660   \n",
      "3  0.649420          -0.705116           0.317562           0.289141   \n",
      "4  0.652921          -0.868489           0.331280           0.210478   \n",
      "5  0.661081          -0.817504           0.283297           0.387589   \n",
      "6  0.109420          -0.748412           0.321976           0.237488   \n",
      "7  0.389913          -0.921928           0.359740           0.293674   \n",
      "8  0.338321          -0.744412           0.308700           0.230126   \n",
      "9  0.257672          -0.647221           0.316101           0.251329   \n",
      "\n",
      "   acoustic_vector_3 acoustic_vector_4  acoustic_vector_5 acoustic_vector_6  \\\n",
      "0           0.028028         -0.333373           0.015452         -0.353590   \n",
      "1          -0.042222         -0.383164           0.066357         -0.365308   \n",
      "2          -0.049007         -0.299745           0.063341         -0.486689   \n",
      "3          -0.038920         -0.393358           0.092719         -0.364418   \n",
      "4           0.084740         -0.333287          -0.025706         -0.510350   \n",
      "5           0.279636         -0.280334           0.117993          0.106159   \n",
      "6           0.003480         -0.315287           0.032431         -0.464694   \n",
      "7           0.115302         -0.274987           0.043193         -0.444351   \n",
      "8           0.066493         -0.242549           0.025370         -0.403210   \n",
      "9          -0.041532         -0.252359           0.059971         -0.313696   \n",
      "\n",
      "  acoustic_vector_7  \n",
      "0          0.205826  \n",
      "1          0.157920  \n",
      "2          0.181604  \n",
      "3          0.285603  \n",
      "4          0.182315  \n",
      "5          0.311233  \n",
      "6          0.200836  \n",
      "7          0.211909  \n",
      "8          0.159350  \n",
      "9          0.126421  \n",
      "\n",
      "[10 rows x 50 columns]\n"
     ]
    }
   ],
   "source": [
    "print(data_df.head(10))"
   ]
  },
  {
   "cell_type": "markdown",
   "metadata": {},
   "source": [
    "# Droping Irrelavant Information\n",
    "We decided to select the the variable skip_3 as our 'y' variable. The 'skip_3' feautre represents when a "
   ]
  },
  {
   "cell_type": "code",
   "execution_count": 15,
   "metadata": {},
   "outputs": [],
   "source": [
    "data_df = data_df.drop(columns=[\"skip_1\", \"skip_2\"], axis=1)\n",
    "\n",
    "# turn skip_3 from T/F to binary(0, 1)\n",
    "\n",
    "# drop 'skip_3' from the data and make it our 'y' value\n",
    "\n"
   ]
  },
  {
   "cell_type": "code",
   "execution_count": null,
   "metadata": {},
   "outputs": [],
   "source": []
  }
 ],
 "metadata": {
  "kernelspec": {
   "display_name": "Python 3",
   "language": "python",
   "name": "python3"
  },
  "language_info": {
   "codemirror_mode": {
    "name": "ipython",
    "version": 3
   },
   "file_extension": ".py",
   "mimetype": "text/x-python",
   "name": "python",
   "nbconvert_exporter": "python",
   "pygments_lexer": "ipython3",
   "version": "3.11.9"
  }
 },
 "nbformat": 4,
 "nbformat_minor": 2
}
